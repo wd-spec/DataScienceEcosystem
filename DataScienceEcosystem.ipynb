{
 "cells": [
  {
   "cell_type": "markdown",
   "id": "d30e254e-7777-4efe-86ce-95288372d258",
   "metadata": {},
   "source": [
    "# Data Science Tools and Ecosystem"
   ]
  },
  {
   "cell_type": "markdown",
   "id": "e00b7b14-4f7f-48f7-9b76-488f57217ef8",
   "metadata": {},
   "source": [
    "In this notebook, Data Science Tools and Ecosystem are summarized."
   ]
  },
  {
   "cell_type": "markdown",
   "id": "315b98d6-52a8-4eb3-80f4-a1de9fc92339",
   "metadata": {},
   "source": [
    "Some of the popular languages that Data Scientists use are:\n",
    "\n",
    "1. Python\n",
    "2. R\n",
    "3. SQL\n",
    "4. Julia"
   ]
  },
  {
   "cell_type": "markdown",
   "id": "0409b4f5-faf3-4847-94ce-85520fffd44b",
   "metadata": {},
   "source": [
    "Some of the commonly used libraries used by Data Scientists include:\n",
    "    \n",
    "* Matplotlib\n",
    "* TensorFlow\n",
    "* Pandas\n",
    "* Seaborn\n",
    "* NymPy"
   ]
  },
  {
   "cell_type": "markdown",
   "id": "bfed65af-a1a2-4f14-9227-913edc4719b2",
   "metadata": {
    "tags": []
   },
   "source": [
    "Data Science Tools|\n",
    "------------------|\n",
    "Jupyter Notebook|\n",
    "VS Code|\n",
    "Google Colab|\n",
    "RStudio|"
   ]
  },
  {
   "cell_type": "markdown",
   "id": "93f9c797-04db-4b37-92c2-5413f8e37e4e",
   "metadata": {
    "tags": []
   },
   "source": [
    "### Below are a few examples of evaluating arithmetic expressions in Python\n",
    "\n",
    "10+5=15\n",
    "\n",
    "4*8=32\n",
    "\n",
    "120/5=24"
   ]
  },
  {
   "cell_type": "code",
   "execution_count": 5,
   "id": "c036c309-5285-4931-b5c2-87ad9fb7ae51",
   "metadata": {
    "tags": []
   },
   "outputs": [
    {
     "data": {
      "text/plain": [
       "17"
      ]
     },
     "execution_count": 5,
     "metadata": {},
     "output_type": "execute_result"
    }
   ],
   "source": [
    "# This a simple arithmetic expression to mutiply then add integers\n",
    "\n",
    "(3*4)+5"
   ]
  },
  {
   "cell_type": "code",
   "execution_count": 10,
   "id": "228cb008-c0dd-438e-b187-6e2e10920514",
   "metadata": {
    "tags": []
   },
   "outputs": [
    {
     "name": "stdout",
     "output_type": "stream",
     "text": [
      "3.3333333333333335\n"
     ]
    }
   ],
   "source": [
    "# This will convert 200 minutes to hours by diving by 60\n",
    "\n",
    "minutes = 200\n",
    "minunes_in_hour = 60\n",
    "hours = minutes/minunes_in_hours\n",
    "print(hours)"
   ]
  },
  {
   "cell_type": "markdown",
   "id": "7619e29e-6a16-4653-b413-42c01ecb59ae",
   "metadata": {},
   "source": [
    "Objectives:\n",
    "\n",
    "* Python\n",
    "* R\n",
    "* SQL"
   ]
  },
  {
   "cell_type": "markdown",
   "id": "af4074b3-592f-4667-b2fd-05ddc891ca33",
   "metadata": {
    "tags": []
   },
   "source": [
    "Author\n",
    "## Vladyslav"
   ]
  },
  {
   "cell_type": "code",
   "execution_count": null,
   "id": "78153192-98e0-42c7-afb3-6bf0684b9797",
   "metadata": {},
   "outputs": [],
   "source": []
  }
 ],
 "metadata": {
  "kernelspec": {
   "display_name": "Python",
   "language": "python",
   "name": "conda-env-python-py"
  },
  "language_info": {
   "codemirror_mode": {
    "name": "ipython",
    "version": 3
   },
   "file_extension": ".py",
   "mimetype": "text/x-python",
   "name": "python",
   "nbconvert_exporter": "python",
   "pygments_lexer": "ipython3",
   "version": "3.7.12"
  }
 },
 "nbformat": 4,
 "nbformat_minor": 5
}
